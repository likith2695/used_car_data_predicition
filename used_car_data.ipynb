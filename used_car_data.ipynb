{
 "cells": [
  {
   "cell_type": "code",
   "execution_count": 1,
   "id": "994958b9-0421-48f1-aedf-9bd00c8425af",
   "metadata": {},
   "outputs": [],
   "source": [
    "import pandas as pd"
   ]
  },
  {
   "cell_type": "code",
   "execution_count": 2,
   "id": "a7cc2103-69bf-4408-be20-a2c4bdf6798d",
   "metadata": {},
   "outputs": [],
   "source": [
    "audi=pd.read_csv('audi.csv')\n",
    "bmw=pd.read_csv('bmw.csv')\n",
    "cclass=pd.read_csv('cclass.csv')\n",
    "focus=pd.read_csv('focus.csv')\n",
    "ford=pd.read_csv('ford.csv')\n",
    "hyundi=pd.read_csv('hyundi.csv')\n",
    "merc=pd.read_csv('merc.csv')\n",
    "skoda=pd.read_csv('skoda.csv')\n",
    "toyota=pd.read_csv('toyota.csv')\n",
    "vauxhall=pd.read_csv('vauxhall.csv')\n",
    "vw=pd.read_csv('vw.csv')  "
   ]
  },
  {
   "cell_type": "code",
   "execution_count": 3,
   "id": "57a64bcd-703c-4b51-a22d-93d055e36430",
   "metadata": {},
   "outputs": [
    {
     "data": {
      "text/html": [
       "<div>\n",
       "<style scoped>\n",
       "    .dataframe tbody tr th:only-of-type {\n",
       "        vertical-align: middle;\n",
       "    }\n",
       "\n",
       "    .dataframe tbody tr th {\n",
       "        vertical-align: top;\n",
       "    }\n",
       "\n",
       "    .dataframe thead th {\n",
       "        text-align: right;\n",
       "    }\n",
       "</style>\n",
       "<table border=\"1\" class=\"dataframe\">\n",
       "  <thead>\n",
       "    <tr style=\"text-align: right;\">\n",
       "      <th></th>\n",
       "      <th>model</th>\n",
       "      <th>year</th>\n",
       "      <th>price</th>\n",
       "      <th>transmission</th>\n",
       "      <th>mileage</th>\n",
       "      <th>fuelType</th>\n",
       "      <th>tax</th>\n",
       "      <th>mpg</th>\n",
       "      <th>engineSize</th>\n",
       "    </tr>\n",
       "  </thead>\n",
       "  <tbody>\n",
       "    <tr>\n",
       "      <th>0</th>\n",
       "      <td>A1</td>\n",
       "      <td>2017</td>\n",
       "      <td>12500</td>\n",
       "      <td>Manual</td>\n",
       "      <td>15735</td>\n",
       "      <td>Petrol</td>\n",
       "      <td>150</td>\n",
       "      <td>55.4</td>\n",
       "      <td>1.4</td>\n",
       "    </tr>\n",
       "    <tr>\n",
       "      <th>1</th>\n",
       "      <td>A6</td>\n",
       "      <td>2016</td>\n",
       "      <td>16500</td>\n",
       "      <td>Automatic</td>\n",
       "      <td>36203</td>\n",
       "      <td>Diesel</td>\n",
       "      <td>20</td>\n",
       "      <td>64.2</td>\n",
       "      <td>2.0</td>\n",
       "    </tr>\n",
       "    <tr>\n",
       "      <th>2</th>\n",
       "      <td>A1</td>\n",
       "      <td>2016</td>\n",
       "      <td>11000</td>\n",
       "      <td>Manual</td>\n",
       "      <td>29946</td>\n",
       "      <td>Petrol</td>\n",
       "      <td>30</td>\n",
       "      <td>55.4</td>\n",
       "      <td>1.4</td>\n",
       "    </tr>\n",
       "    <tr>\n",
       "      <th>3</th>\n",
       "      <td>A4</td>\n",
       "      <td>2017</td>\n",
       "      <td>16800</td>\n",
       "      <td>Automatic</td>\n",
       "      <td>25952</td>\n",
       "      <td>Diesel</td>\n",
       "      <td>145</td>\n",
       "      <td>67.3</td>\n",
       "      <td>2.0</td>\n",
       "    </tr>\n",
       "    <tr>\n",
       "      <th>4</th>\n",
       "      <td>A3</td>\n",
       "      <td>2019</td>\n",
       "      <td>17300</td>\n",
       "      <td>Manual</td>\n",
       "      <td>1998</td>\n",
       "      <td>Petrol</td>\n",
       "      <td>145</td>\n",
       "      <td>49.6</td>\n",
       "      <td>1.0</td>\n",
       "    </tr>\n",
       "  </tbody>\n",
       "</table>\n",
       "</div>"
      ],
      "text/plain": [
       "  model  year  price transmission  mileage fuelType  tax   mpg  engineSize\n",
       "0    A1  2017  12500       Manual    15735   Petrol  150  55.4         1.4\n",
       "1    A6  2016  16500    Automatic    36203   Diesel   20  64.2         2.0\n",
       "2    A1  2016  11000       Manual    29946   Petrol   30  55.4         1.4\n",
       "3    A4  2017  16800    Automatic    25952   Diesel  145  67.3         2.0\n",
       "4    A3  2019  17300       Manual     1998   Petrol  145  49.6         1.0"
      ]
     },
     "execution_count": 3,
     "metadata": {},
     "output_type": "execute_result"
    }
   ],
   "source": [
    "audi.head()"
   ]
  },
  {
   "cell_type": "code",
   "execution_count": 4,
   "id": "ea25da4b-1591-4ffc-85b2-50c4363845ce",
   "metadata": {},
   "outputs": [],
   "source": [
    "audi['company_name']='audi'\n",
    "bmw['company_name']='bmw'\n",
    "cclass['company_name']='cclass'\n",
    "focus['company_name']='focus'\n",
    "ford['company_name']='ford'\n",
    "hyundi['company_name']='hyundi'\n",
    "merc['company_name']='merc'\n",
    "skoda['company_name']='skoda'\n",
    "toyota['company_name']='toyota'\n",
    "vauxhall['company_name']='vauxhall'\n",
    "vw['company_name']='vw'"
   ]
  },
  {
   "cell_type": "code",
   "execution_count": 5,
   "id": "15452d2f-42dd-4af6-aa56-bafb8ad44309",
   "metadata": {},
   "outputs": [
    {
     "data": {
      "text/html": [
       "<div>\n",
       "<style scoped>\n",
       "    .dataframe tbody tr th:only-of-type {\n",
       "        vertical-align: middle;\n",
       "    }\n",
       "\n",
       "    .dataframe tbody tr th {\n",
       "        vertical-align: top;\n",
       "    }\n",
       "\n",
       "    .dataframe thead th {\n",
       "        text-align: right;\n",
       "    }\n",
       "</style>\n",
       "<table border=\"1\" class=\"dataframe\">\n",
       "  <thead>\n",
       "    <tr style=\"text-align: right;\">\n",
       "      <th></th>\n",
       "      <th>model</th>\n",
       "      <th>year</th>\n",
       "      <th>price</th>\n",
       "      <th>transmission</th>\n",
       "      <th>mileage</th>\n",
       "      <th>fuelType</th>\n",
       "      <th>tax</th>\n",
       "      <th>mpg</th>\n",
       "      <th>engineSize</th>\n",
       "      <th>company_name</th>\n",
       "    </tr>\n",
       "  </thead>\n",
       "  <tbody>\n",
       "    <tr>\n",
       "      <th>0</th>\n",
       "      <td>A1</td>\n",
       "      <td>2017</td>\n",
       "      <td>12500</td>\n",
       "      <td>Manual</td>\n",
       "      <td>15735</td>\n",
       "      <td>Petrol</td>\n",
       "      <td>150</td>\n",
       "      <td>55.4</td>\n",
       "      <td>1.4</td>\n",
       "      <td>audi</td>\n",
       "    </tr>\n",
       "    <tr>\n",
       "      <th>1</th>\n",
       "      <td>A6</td>\n",
       "      <td>2016</td>\n",
       "      <td>16500</td>\n",
       "      <td>Automatic</td>\n",
       "      <td>36203</td>\n",
       "      <td>Diesel</td>\n",
       "      <td>20</td>\n",
       "      <td>64.2</td>\n",
       "      <td>2.0</td>\n",
       "      <td>audi</td>\n",
       "    </tr>\n",
       "    <tr>\n",
       "      <th>2</th>\n",
       "      <td>A1</td>\n",
       "      <td>2016</td>\n",
       "      <td>11000</td>\n",
       "      <td>Manual</td>\n",
       "      <td>29946</td>\n",
       "      <td>Petrol</td>\n",
       "      <td>30</td>\n",
       "      <td>55.4</td>\n",
       "      <td>1.4</td>\n",
       "      <td>audi</td>\n",
       "    </tr>\n",
       "    <tr>\n",
       "      <th>3</th>\n",
       "      <td>A4</td>\n",
       "      <td>2017</td>\n",
       "      <td>16800</td>\n",
       "      <td>Automatic</td>\n",
       "      <td>25952</td>\n",
       "      <td>Diesel</td>\n",
       "      <td>145</td>\n",
       "      <td>67.3</td>\n",
       "      <td>2.0</td>\n",
       "      <td>audi</td>\n",
       "    </tr>\n",
       "    <tr>\n",
       "      <th>4</th>\n",
       "      <td>A3</td>\n",
       "      <td>2019</td>\n",
       "      <td>17300</td>\n",
       "      <td>Manual</td>\n",
       "      <td>1998</td>\n",
       "      <td>Petrol</td>\n",
       "      <td>145</td>\n",
       "      <td>49.6</td>\n",
       "      <td>1.0</td>\n",
       "      <td>audi</td>\n",
       "    </tr>\n",
       "  </tbody>\n",
       "</table>\n",
       "</div>"
      ],
      "text/plain": [
       "  model  year  price transmission  mileage fuelType  tax   mpg  engineSize  \\\n",
       "0    A1  2017  12500       Manual    15735   Petrol  150  55.4         1.4   \n",
       "1    A6  2016  16500    Automatic    36203   Diesel   20  64.2         2.0   \n",
       "2    A1  2016  11000       Manual    29946   Petrol   30  55.4         1.4   \n",
       "3    A4  2017  16800    Automatic    25952   Diesel  145  67.3         2.0   \n",
       "4    A3  2019  17300       Manual     1998   Petrol  145  49.6         1.0   \n",
       "\n",
       "  company_name  \n",
       "0         audi  \n",
       "1         audi  \n",
       "2         audi  \n",
       "3         audi  \n",
       "4         audi  "
      ]
     },
     "execution_count": 5,
     "metadata": {},
     "output_type": "execute_result"
    }
   ],
   "source": [
    "audi.head()"
   ]
  },
  {
   "cell_type": "code",
   "execution_count": 6,
   "id": "1b88c9d8-acd9-416a-849f-78ef241cbc29",
   "metadata": {},
   "outputs": [],
   "source": [
    "hyundi.rename(columns = {'tax(£)':'tax'},inplace=True)"
   ]
  },
  {
   "cell_type": "code",
   "execution_count": 7,
   "id": "6891d0e4-f660-4625-9c54-0929839ffa7d",
   "metadata": {},
   "outputs": [],
   "source": [
    "df=pd.concat([audi,bmw,ford,hyundi,merc,skoda,toyota,vauxhall,vw],axis=0)"
   ]
  },
  {
   "cell_type": "code",
   "execution_count": 8,
   "id": "2a08b7ba-5ff8-4de1-ae73-26558b8da846",
   "metadata": {},
   "outputs": [
    {
     "data": {
      "text/html": [
       "<div>\n",
       "<style scoped>\n",
       "    .dataframe tbody tr th:only-of-type {\n",
       "        vertical-align: middle;\n",
       "    }\n",
       "\n",
       "    .dataframe tbody tr th {\n",
       "        vertical-align: top;\n",
       "    }\n",
       "\n",
       "    .dataframe thead th {\n",
       "        text-align: right;\n",
       "    }\n",
       "</style>\n",
       "<table border=\"1\" class=\"dataframe\">\n",
       "  <thead>\n",
       "    <tr style=\"text-align: right;\">\n",
       "      <th></th>\n",
       "      <th>model</th>\n",
       "      <th>year</th>\n",
       "      <th>price</th>\n",
       "      <th>transmission</th>\n",
       "      <th>mileage</th>\n",
       "      <th>fuelType</th>\n",
       "      <th>tax</th>\n",
       "      <th>mpg</th>\n",
       "      <th>engineSize</th>\n",
       "      <th>company_name</th>\n",
       "    </tr>\n",
       "  </thead>\n",
       "  <tbody>\n",
       "    <tr>\n",
       "      <th>0</th>\n",
       "      <td>A1</td>\n",
       "      <td>2017</td>\n",
       "      <td>12500</td>\n",
       "      <td>Manual</td>\n",
       "      <td>15735</td>\n",
       "      <td>Petrol</td>\n",
       "      <td>150</td>\n",
       "      <td>55.4</td>\n",
       "      <td>1.4</td>\n",
       "      <td>audi</td>\n",
       "    </tr>\n",
       "    <tr>\n",
       "      <th>1</th>\n",
       "      <td>A6</td>\n",
       "      <td>2016</td>\n",
       "      <td>16500</td>\n",
       "      <td>Automatic</td>\n",
       "      <td>36203</td>\n",
       "      <td>Diesel</td>\n",
       "      <td>20</td>\n",
       "      <td>64.2</td>\n",
       "      <td>2.0</td>\n",
       "      <td>audi</td>\n",
       "    </tr>\n",
       "    <tr>\n",
       "      <th>2</th>\n",
       "      <td>A1</td>\n",
       "      <td>2016</td>\n",
       "      <td>11000</td>\n",
       "      <td>Manual</td>\n",
       "      <td>29946</td>\n",
       "      <td>Petrol</td>\n",
       "      <td>30</td>\n",
       "      <td>55.4</td>\n",
       "      <td>1.4</td>\n",
       "      <td>audi</td>\n",
       "    </tr>\n",
       "    <tr>\n",
       "      <th>3</th>\n",
       "      <td>A4</td>\n",
       "      <td>2017</td>\n",
       "      <td>16800</td>\n",
       "      <td>Automatic</td>\n",
       "      <td>25952</td>\n",
       "      <td>Diesel</td>\n",
       "      <td>145</td>\n",
       "      <td>67.3</td>\n",
       "      <td>2.0</td>\n",
       "      <td>audi</td>\n",
       "    </tr>\n",
       "    <tr>\n",
       "      <th>4</th>\n",
       "      <td>A3</td>\n",
       "      <td>2019</td>\n",
       "      <td>17300</td>\n",
       "      <td>Manual</td>\n",
       "      <td>1998</td>\n",
       "      <td>Petrol</td>\n",
       "      <td>145</td>\n",
       "      <td>49.6</td>\n",
       "      <td>1.0</td>\n",
       "      <td>audi</td>\n",
       "    </tr>\n",
       "  </tbody>\n",
       "</table>\n",
       "</div>"
      ],
      "text/plain": [
       "  model  year  price transmission  mileage fuelType  tax   mpg  engineSize  \\\n",
       "0    A1  2017  12500       Manual    15735   Petrol  150  55.4         1.4   \n",
       "1    A6  2016  16500    Automatic    36203   Diesel   20  64.2         2.0   \n",
       "2    A1  2016  11000       Manual    29946   Petrol   30  55.4         1.4   \n",
       "3    A4  2017  16800    Automatic    25952   Diesel  145  67.3         2.0   \n",
       "4    A3  2019  17300       Manual     1998   Petrol  145  49.6         1.0   \n",
       "\n",
       "  company_name  \n",
       "0         audi  \n",
       "1         audi  \n",
       "2         audi  \n",
       "3         audi  \n",
       "4         audi  "
      ]
     },
     "execution_count": 8,
     "metadata": {},
     "output_type": "execute_result"
    }
   ],
   "source": [
    "df.head()"
   ]
  },
  {
   "cell_type": "code",
   "execution_count": 9,
   "id": "d11597bf-0be9-464e-b4a3-02bb78d04100",
   "metadata": {},
   "outputs": [
    {
     "data": {
      "text/plain": [
       "(99187, 10)"
      ]
     },
     "execution_count": 9,
     "metadata": {},
     "output_type": "execute_result"
    }
   ],
   "source": [
    "df.shape"
   ]
  },
  {
   "cell_type": "code",
   "execution_count": 10,
   "id": "78953c0c-52df-4bbf-8915-f73f55dc4a13",
   "metadata": {},
   "outputs": [
    {
     "data": {
      "text/plain": [
       "array(['audi', 'bmw', 'ford', 'hyundi', 'merc', 'skoda', 'toyota',\n",
       "       'vauxhall', 'vw'], dtype=object)"
      ]
     },
     "execution_count": 10,
     "metadata": {},
     "output_type": "execute_result"
    }
   ],
   "source": [
    "df['company_name'].unique()"
   ]
  },
  {
   "cell_type": "code",
   "execution_count": 11,
   "id": "74190420-8ba9-427b-8113-f9267a78a0b2",
   "metadata": {},
   "outputs": [
    {
     "data": {
      "text/plain": [
       "array([' A1', ' A6', ' A4', ' A3', ' Q3', ' Q5', ' A5', ' S4', ' Q2',\n",
       "       ' A7', ' TT', ' Q7', ' RS6', ' RS3', ' A8', ' Q8', ' RS4', ' RS5',\n",
       "       ' R8', ' SQ5', ' S8', ' SQ7', ' S3', ' S5', ' A2', ' RS7',\n",
       "       ' 5 Series', ' 6 Series', ' 1 Series', ' 7 Series', ' 2 Series',\n",
       "       ' 4 Series', ' X3', ' 3 Series', ' X5', ' X4', ' i3', ' X1', ' M4',\n",
       "       ' X2', ' X6', ' 8 Series', ' Z4', ' X7', ' M5', ' i8', ' M2',\n",
       "       ' M3', ' M6', ' Z3', ' Fiesta', ' Focus', ' Puma', ' Kuga',\n",
       "       ' EcoSport', ' C-MAX', ' Mondeo', ' Ka+', ' Tourneo Custom',\n",
       "       ' S-MAX', ' B-MAX', ' Edge', ' Tourneo Connect', ' Grand C-MAX',\n",
       "       ' KA', ' Galaxy', ' Mustang', ' Grand Tourneo Connect', ' Fusion',\n",
       "       ' Ranger', ' Streetka', ' Escort', ' Transit Tourneo', ' I20',\n",
       "       ' Tucson', ' I10', ' IX35', ' I30', ' I40', ' Ioniq', ' Kona',\n",
       "       ' Veloster', ' I800', ' IX20', ' Santa Fe', ' Accent', ' Terracan',\n",
       "       ' Getz', ' Amica', ' SLK', ' S Class', ' SL CLASS', ' G Class',\n",
       "       ' GLE Class', ' GLA Class', ' A Class', ' B Class', ' GLC Class',\n",
       "       ' C Class', ' E Class', ' GL Class', ' CLS Class', ' CLC Class',\n",
       "       ' CLA Class', ' V Class', ' M Class', ' CL Class', ' GLS Class',\n",
       "       ' GLB Class', ' X-CLASS', '180', ' CLK', ' R Class', '230', '220',\n",
       "       '200', ' Octavia', ' Citigo', ' Yeti Outdoor', ' Superb',\n",
       "       ' Kodiaq', ' Rapid', ' Karoq', ' Fabia', ' Yeti', ' Scala',\n",
       "       ' Roomster', ' Kamiq', ' GT86', ' Corolla', ' RAV4', ' Yaris',\n",
       "       ' Auris', ' Aygo', ' C-HR', ' Prius', ' Avensis', ' Verso',\n",
       "       ' Hilux', ' PROACE VERSO', ' Land Cruiser', ' Supra', ' Camry',\n",
       "       ' Verso-S', ' IQ', ' Urban Cruiser', ' Corsa', ' Astra', ' Viva',\n",
       "       ' Mokka', ' Mokka X', ' Crossland X', ' Zafira', ' Meriva',\n",
       "       ' Zafira Tourer', ' Adam', ' Grandland X', ' Antara', ' Insignia',\n",
       "       ' Ampera', ' GTC', ' Combo Life', ' Vivaro', ' Cascada', ' Kadjar',\n",
       "       ' Agila', ' Tigra', ' Vectra', ' T-Roc', ' Golf', ' Passat',\n",
       "       ' T-Cross', ' Polo', ' Tiguan', ' Sharan', ' Up', ' Scirocco',\n",
       "       ' Beetle', ' Caddy Maxi Life', ' Caravelle', ' Touareg', ' Arteon',\n",
       "       ' Touran', ' Golf SV', ' Amarok', ' Tiguan Allspace', ' Shuttle',\n",
       "       ' Jetta', ' CC', ' California', ' Caddy Life', ' Caddy',\n",
       "       ' Caddy Maxi', ' Eos', ' Fox'], dtype=object)"
      ]
     },
     "execution_count": 11,
     "metadata": {},
     "output_type": "execute_result"
    }
   ],
   "source": [
    "df['model'].unique()"
   ]
  },
  {
   "cell_type": "code",
   "execution_count": 12,
   "id": "57ff0cd1-ba4f-4eca-8393-bdea469b265f",
   "metadata": {},
   "outputs": [
    {
     "data": {
      "text/plain": [
       "195"
      ]
     },
     "execution_count": 12,
     "metadata": {},
     "output_type": "execute_result"
    }
   ],
   "source": [
    "len(df['model'].unique())"
   ]
  },
  {
   "cell_type": "code",
   "execution_count": 13,
   "id": "e8185c82-c118-4581-ae86-ca982d8667ca",
   "metadata": {},
   "outputs": [
    {
     "data": {
      "text/plain": [
       "array([2017, 2016, 2019, 2015, 2014, 2018, 2013, 2020, 2004, 2009, 2012,\n",
       "       2010, 2007, 2011, 2008, 2003, 2005, 2002, 2006, 1998, 1997, 2001,\n",
       "       2000, 1999, 1996, 2060, 1970], dtype=int64)"
      ]
     },
     "execution_count": 13,
     "metadata": {},
     "output_type": "execute_result"
    }
   ],
   "source": [
    "df['year'].unique()"
   ]
  },
  {
   "cell_type": "code",
   "execution_count": 14,
   "id": "e9a9fef0-4648-41bc-ad5b-e47111e0b620",
   "metadata": {},
   "outputs": [
    {
     "data": {
      "text/plain": [
       "27"
      ]
     },
     "execution_count": 14,
     "metadata": {},
     "output_type": "execute_result"
    }
   ],
   "source": [
    "len(df['year'].unique())"
   ]
  },
  {
   "cell_type": "code",
   "execution_count": 15,
   "id": "8453a846-9ab3-4c10-a508-d42198dd641a",
   "metadata": {},
   "outputs": [
    {
     "data": {
      "text/plain": [
       "array(['Manual', 'Automatic', 'Semi-Auto', 'Other'], dtype=object)"
      ]
     },
     "execution_count": 15,
     "metadata": {},
     "output_type": "execute_result"
    }
   ],
   "source": [
    "df['transmission'].unique()"
   ]
  },
  {
   "cell_type": "code",
   "execution_count": 16,
   "id": "16cecefe-d1a6-4433-91e3-19a57e37d976",
   "metadata": {},
   "outputs": [
    {
     "data": {
      "text/plain": [
       "4"
      ]
     },
     "execution_count": 16,
     "metadata": {},
     "output_type": "execute_result"
    }
   ],
   "source": [
    "len(df['transmission'].unique())"
   ]
  },
  {
   "cell_type": "code",
   "execution_count": 17,
   "id": "b0d97882-5660-438a-ae02-b3e9bb3a61ef",
   "metadata": {},
   "outputs": [
    {
     "data": {
      "text/plain": [
       "array(['Petrol', 'Diesel', 'Hybrid', 'Other', 'Electric'], dtype=object)"
      ]
     },
     "execution_count": 17,
     "metadata": {},
     "output_type": "execute_result"
    }
   ],
   "source": [
    "df['fuelType'].unique()"
   ]
  },
  {
   "cell_type": "code",
   "execution_count": 18,
   "id": "93a5ab81-af42-4728-ad10-55b701da7672",
   "metadata": {},
   "outputs": [
    {
     "data": {
      "text/plain": [
       "5"
      ]
     },
     "execution_count": 18,
     "metadata": {},
     "output_type": "execute_result"
    }
   ],
   "source": [
    "len(df['fuelType'].unique())"
   ]
  },
  {
   "cell_type": "code",
   "execution_count": 19,
   "id": "720654a3-f520-49bd-944e-4c4cd633bd26",
   "metadata": {},
   "outputs": [
    {
     "data": {
      "text/plain": [
       "array(['audi', 'bmw', 'ford', 'hyundi', 'merc', 'skoda', 'toyota',\n",
       "       'vauxhall', 'vw'], dtype=object)"
      ]
     },
     "execution_count": 19,
     "metadata": {},
     "output_type": "execute_result"
    }
   ],
   "source": [
    "df['company_name'].unique()"
   ]
  },
  {
   "cell_type": "code",
   "execution_count": 20,
   "id": "d7d8df63-9fe7-4230-944e-d9e0efa99a01",
   "metadata": {},
   "outputs": [
    {
     "data": {
      "text/plain": [
       "9"
      ]
     },
     "execution_count": 20,
     "metadata": {},
     "output_type": "execute_result"
    }
   ],
   "source": [
    "len(df['company_name'].unique())"
   ]
  },
  {
   "cell_type": "code",
   "execution_count": 21,
   "id": "17786a58-c0c8-4eff-baf4-9decee236a69",
   "metadata": {},
   "outputs": [],
   "source": [
    "from sklearn.preprocessing import LabelEncoder"
   ]
  },
  {
   "cell_type": "code",
   "execution_count": 22,
   "id": "3183827b-8590-4d47-96bc-ed72647ddcb7",
   "metadata": {},
   "outputs": [],
   "source": [
    "model=LabelEncoder()\n",
    "transmission=LabelEncoder()\n",
    "fuelType=LabelEncoder()\n",
    "company_name=LabelEncoder()"
   ]
  },
  {
   "cell_type": "code",
   "execution_count": 23,
   "id": "6d6b2ede-43f2-469c-abfd-cd71fd26d9d4",
   "metadata": {},
   "outputs": [
    {
     "data": {
      "text/plain": [
       "LabelEncoder()"
      ]
     },
     "execution_count": 23,
     "metadata": {},
     "output_type": "execute_result"
    }
   ],
   "source": [
    "model.fit(df['model'])\n",
    "transmission.fit(df['transmission'])\n",
    "fuelType.fit(df['fuelType'])\n",
    "company_name.fit(df['company_name'])"
   ]
  },
  {
   "cell_type": "code",
   "execution_count": 24,
   "id": "320d50ce-2af1-493b-8b68-f3735aca4649",
   "metadata": {},
   "outputs": [
    {
     "name": "stdout",
     "output_type": "stream",
     "text": [
      "<class 'pandas.core.frame.DataFrame'>\n",
      "Int64Index: 99187 entries, 0 to 15156\n",
      "Data columns (total 10 columns):\n",
      " #   Column        Non-Null Count  Dtype  \n",
      "---  ------        --------------  -----  \n",
      " 0   model         99187 non-null  object \n",
      " 1   year          99187 non-null  int64  \n",
      " 2   price         99187 non-null  int64  \n",
      " 3   transmission  99187 non-null  object \n",
      " 4   mileage       99187 non-null  int64  \n",
      " 5   fuelType      99187 non-null  object \n",
      " 6   tax           99187 non-null  int64  \n",
      " 7   mpg           99187 non-null  float64\n",
      " 8   engineSize    99187 non-null  float64\n",
      " 9   company_name  99187 non-null  object \n",
      "dtypes: float64(2), int64(4), object(4)\n",
      "memory usage: 8.3+ MB\n"
     ]
    }
   ],
   "source": [
    "df.info()"
   ]
  },
  {
   "cell_type": "code",
   "execution_count": 25,
   "id": "61ccede9-e9ed-42a8-93aa-e720d282d3e7",
   "metadata": {},
   "outputs": [],
   "source": [
    "df['model'] = df['model'].astype('str')\n",
    "df['transmission'] = df['transmission'].astype('str')"
   ]
  },
  {
   "cell_type": "code",
   "execution_count": 26,
   "id": "b175f059-9345-4886-a0b0-e6a18e35102e",
   "metadata": {},
   "outputs": [],
   "source": [
    "df['model']=model.transform(df['model'])\n",
    "df['transmission']=transmission.transform(df['transmission'])\n",
    "df['fuelType']=fuelType.transform(df['fuelType'])\n",
    "df['company_name']=company_name.transform(df['company_name'])"
   ]
  },
  {
   "cell_type": "code",
   "execution_count": 27,
   "id": "265ceff0-85ac-4eff-9049-8aeb48e54501",
   "metadata": {},
   "outputs": [
    {
     "data": {
      "text/html": [
       "<div>\n",
       "<style scoped>\n",
       "    .dataframe tbody tr th:only-of-type {\n",
       "        vertical-align: middle;\n",
       "    }\n",
       "\n",
       "    .dataframe tbody tr th {\n",
       "        vertical-align: top;\n",
       "    }\n",
       "\n",
       "    .dataframe thead th {\n",
       "        text-align: right;\n",
       "    }\n",
       "</style>\n",
       "<table border=\"1\" class=\"dataframe\">\n",
       "  <thead>\n",
       "    <tr style=\"text-align: right;\">\n",
       "      <th></th>\n",
       "      <th>model</th>\n",
       "      <th>year</th>\n",
       "      <th>price</th>\n",
       "      <th>transmission</th>\n",
       "      <th>mileage</th>\n",
       "      <th>fuelType</th>\n",
       "      <th>tax</th>\n",
       "      <th>mpg</th>\n",
       "      <th>engineSize</th>\n",
       "      <th>company_name</th>\n",
       "    </tr>\n",
       "  </thead>\n",
       "  <tbody>\n",
       "    <tr>\n",
       "      <th>0</th>\n",
       "      <td>9</td>\n",
       "      <td>2017</td>\n",
       "      <td>12500</td>\n",
       "      <td>1</td>\n",
       "      <td>15735</td>\n",
       "      <td>4</td>\n",
       "      <td>150</td>\n",
       "      <td>55.4</td>\n",
       "      <td>1.4</td>\n",
       "      <td>0</td>\n",
       "    </tr>\n",
       "    <tr>\n",
       "      <th>1</th>\n",
       "      <td>14</td>\n",
       "      <td>2016</td>\n",
       "      <td>16500</td>\n",
       "      <td>0</td>\n",
       "      <td>36203</td>\n",
       "      <td>0</td>\n",
       "      <td>20</td>\n",
       "      <td>64.2</td>\n",
       "      <td>2.0</td>\n",
       "      <td>0</td>\n",
       "    </tr>\n",
       "    <tr>\n",
       "      <th>2</th>\n",
       "      <td>9</td>\n",
       "      <td>2016</td>\n",
       "      <td>11000</td>\n",
       "      <td>1</td>\n",
       "      <td>29946</td>\n",
       "      <td>4</td>\n",
       "      <td>30</td>\n",
       "      <td>55.4</td>\n",
       "      <td>1.4</td>\n",
       "      <td>0</td>\n",
       "    </tr>\n",
       "    <tr>\n",
       "      <th>3</th>\n",
       "      <td>12</td>\n",
       "      <td>2017</td>\n",
       "      <td>16800</td>\n",
       "      <td>0</td>\n",
       "      <td>25952</td>\n",
       "      <td>0</td>\n",
       "      <td>145</td>\n",
       "      <td>67.3</td>\n",
       "      <td>2.0</td>\n",
       "      <td>0</td>\n",
       "    </tr>\n",
       "    <tr>\n",
       "      <th>4</th>\n",
       "      <td>11</td>\n",
       "      <td>2019</td>\n",
       "      <td>17300</td>\n",
       "      <td>1</td>\n",
       "      <td>1998</td>\n",
       "      <td>4</td>\n",
       "      <td>145</td>\n",
       "      <td>49.6</td>\n",
       "      <td>1.0</td>\n",
       "      <td>0</td>\n",
       "    </tr>\n",
       "  </tbody>\n",
       "</table>\n",
       "</div>"
      ],
      "text/plain": [
       "   model  year  price  transmission  mileage  fuelType  tax   mpg  engineSize  \\\n",
       "0      9  2017  12500             1    15735         4  150  55.4         1.4   \n",
       "1     14  2016  16500             0    36203         0   20  64.2         2.0   \n",
       "2      9  2016  11000             1    29946         4   30  55.4         1.4   \n",
       "3     12  2017  16800             0    25952         0  145  67.3         2.0   \n",
       "4     11  2019  17300             1     1998         4  145  49.6         1.0   \n",
       "\n",
       "   company_name  \n",
       "0             0  \n",
       "1             0  \n",
       "2             0  \n",
       "3             0  \n",
       "4             0  "
      ]
     },
     "execution_count": 27,
     "metadata": {},
     "output_type": "execute_result"
    }
   ],
   "source": [
    "df.head()"
   ]
  },
  {
   "cell_type": "code",
   "execution_count": 28,
   "id": "607d61de-488c-49db-8e26-2b21d8fd92cf",
   "metadata": {},
   "outputs": [
    {
     "name": "stdout",
     "output_type": "stream",
     "text": [
      "<class 'pandas.core.frame.DataFrame'>\n",
      "Int64Index: 99187 entries, 0 to 15156\n",
      "Data columns (total 10 columns):\n",
      " #   Column        Non-Null Count  Dtype  \n",
      "---  ------        --------------  -----  \n",
      " 0   model         99187 non-null  int32  \n",
      " 1   year          99187 non-null  int64  \n",
      " 2   price         99187 non-null  int64  \n",
      " 3   transmission  99187 non-null  int32  \n",
      " 4   mileage       99187 non-null  int64  \n",
      " 5   fuelType      99187 non-null  int32  \n",
      " 6   tax           99187 non-null  int64  \n",
      " 7   mpg           99187 non-null  float64\n",
      " 8   engineSize    99187 non-null  float64\n",
      " 9   company_name  99187 non-null  int32  \n",
      "dtypes: float64(2), int32(4), int64(4)\n",
      "memory usage: 6.8 MB\n"
     ]
    }
   ],
   "source": [
    "df.info()"
   ]
  },
  {
   "cell_type": "code",
   "execution_count": 29,
   "id": "d4a55a67-f45a-42ef-a717-6cb72fb041e5",
   "metadata": {},
   "outputs": [],
   "source": [
    "X=df.drop(columns=['price'],axis=1)"
   ]
  },
  {
   "cell_type": "code",
   "execution_count": 30,
   "id": "d729ce47-578b-4ef8-b784-8915c457afab",
   "metadata": {},
   "outputs": [],
   "source": [
    "y=df[['price']]"
   ]
  },
  {
   "cell_type": "code",
   "execution_count": 31,
   "id": "867d15da-688f-4c49-ab40-86dc0c26b0b9",
   "metadata": {},
   "outputs": [],
   "source": [
    "from sklearn.model_selection import train_test_split\n",
    "from sklearn.linear_model import LinearRegression\n",
    "from sklearn.ensemble import RandomForestRegressor\n",
    "X_train,X_test,y_train,y_test=train_test_split(X,y)"
   ]
  },
  {
   "cell_type": "code",
   "execution_count": 32,
   "id": "455a883b-81fd-40a6-aaab-0e8182083a4c",
   "metadata": {},
   "outputs": [
    {
     "data": {
      "text/plain": [
       "LinearRegression()"
      ]
     },
     "execution_count": 32,
     "metadata": {},
     "output_type": "execute_result"
    }
   ],
   "source": [
    "linear=LinearRegression()\n",
    "linear.fit(X_train,y_train)"
   ]
  },
  {
   "cell_type": "code",
   "execution_count": 33,
   "id": "e6bbbacb-4d5b-4159-9555-b7fbb5ca9b97",
   "metadata": {},
   "outputs": [],
   "source": [
    "pred=linear.predict(X_test)"
   ]
  },
  {
   "cell_type": "code",
   "execution_count": 34,
   "id": "42f4a08e-8ecb-4d49-9b4c-eaa321f628f0",
   "metadata": {},
   "outputs": [
    {
     "data": {
      "text/html": [
       "<div>\n",
       "<style scoped>\n",
       "    .dataframe tbody tr th:only-of-type {\n",
       "        vertical-align: middle;\n",
       "    }\n",
       "\n",
       "    .dataframe tbody tr th {\n",
       "        vertical-align: top;\n",
       "    }\n",
       "\n",
       "    .dataframe thead th {\n",
       "        text-align: right;\n",
       "    }\n",
       "</style>\n",
       "<table border=\"1\" class=\"dataframe\">\n",
       "  <thead>\n",
       "    <tr style=\"text-align: right;\">\n",
       "      <th></th>\n",
       "      <th>model</th>\n",
       "      <th>year</th>\n",
       "      <th>transmission</th>\n",
       "      <th>mileage</th>\n",
       "      <th>fuelType</th>\n",
       "      <th>tax</th>\n",
       "      <th>mpg</th>\n",
       "      <th>engineSize</th>\n",
       "      <th>company_name</th>\n",
       "    </tr>\n",
       "  </thead>\n",
       "  <tbody>\n",
       "    <tr>\n",
       "      <th>9884</th>\n",
       "      <td>1</td>\n",
       "      <td>2017</td>\n",
       "      <td>0</td>\n",
       "      <td>14000</td>\n",
       "      <td>0</td>\n",
       "      <td>145</td>\n",
       "      <td>65.7</td>\n",
       "      <td>2.0</td>\n",
       "      <td>1</td>\n",
       "    </tr>\n",
       "    <tr>\n",
       "      <th>6579</th>\n",
       "      <td>4</td>\n",
       "      <td>2019</td>\n",
       "      <td>0</td>\n",
       "      <td>6071</td>\n",
       "      <td>0</td>\n",
       "      <td>145</td>\n",
       "      <td>53.3</td>\n",
       "      <td>3.0</td>\n",
       "      <td>1</td>\n",
       "    </tr>\n",
       "    <tr>\n",
       "      <th>5984</th>\n",
       "      <td>33</td>\n",
       "      <td>2017</td>\n",
       "      <td>1</td>\n",
       "      <td>32500</td>\n",
       "      <td>4</td>\n",
       "      <td>150</td>\n",
       "      <td>47.1</td>\n",
       "      <td>1.2</td>\n",
       "      <td>6</td>\n",
       "    </tr>\n",
       "    <tr>\n",
       "      <th>1797</th>\n",
       "      <td>99</td>\n",
       "      <td>2017</td>\n",
       "      <td>1</td>\n",
       "      <td>3150</td>\n",
       "      <td>4</td>\n",
       "      <td>150</td>\n",
       "      <td>45.6</td>\n",
       "      <td>1.5</td>\n",
       "      <td>2</td>\n",
       "    </tr>\n",
       "    <tr>\n",
       "      <th>5816</th>\n",
       "      <td>61</td>\n",
       "      <td>2017</td>\n",
       "      <td>1</td>\n",
       "      <td>35978</td>\n",
       "      <td>0</td>\n",
       "      <td>145</td>\n",
       "      <td>74.3</td>\n",
       "      <td>1.5</td>\n",
       "      <td>2</td>\n",
       "    </tr>\n",
       "  </tbody>\n",
       "</table>\n",
       "</div>"
      ],
      "text/plain": [
       "      model  year  transmission  mileage  fuelType  tax   mpg  engineSize  \\\n",
       "9884      1  2017             0    14000         0  145  65.7         2.0   \n",
       "6579      4  2019             0     6071         0  145  53.3         3.0   \n",
       "5984     33  2017             1    32500         4  150  47.1         1.2   \n",
       "1797     99  2017             1     3150         4  150  45.6         1.5   \n",
       "5816     61  2017             1    35978         0  145  74.3         1.5   \n",
       "\n",
       "      company_name  \n",
       "9884             1  \n",
       "6579             1  \n",
       "5984             6  \n",
       "1797             2  \n",
       "5816             2  "
      ]
     },
     "execution_count": 34,
     "metadata": {},
     "output_type": "execute_result"
    }
   ],
   "source": [
    "X_test.head()"
   ]
  },
  {
   "cell_type": "markdown",
   "id": "e089b52b-9ab8-4d99-8cf7-a2308a80ea0c",
   "metadata": {},
   "source": [
    "from sklearn.metrics import accuracy_score\n",
    "accuracy_score(pred,y_test)"
   ]
  },
  {
   "cell_type": "code",
   "execution_count": 35,
   "id": "fee523a2-6bee-46b8-b44c-2f73e850b3c9",
   "metadata": {},
   "outputs": [],
   "source": [
    "out=y_test.copy()"
   ]
  },
  {
   "cell_type": "code",
   "execution_count": 36,
   "id": "d32ccb64-807b-4685-b966-6a89cc56a023",
   "metadata": {},
   "outputs": [],
   "source": [
    "out['predicted']=pred\n",
    "out['model']=X_test['model'] "
   ]
  },
  {
   "cell_type": "code",
   "execution_count": 37,
   "id": "703a23d1-e22b-4c5c-a230-a1e5ae2934ba",
   "metadata": {},
   "outputs": [
    {
     "data": {
      "text/html": [
       "<div>\n",
       "<style scoped>\n",
       "    .dataframe tbody tr th:only-of-type {\n",
       "        vertical-align: middle;\n",
       "    }\n",
       "\n",
       "    .dataframe tbody tr th {\n",
       "        vertical-align: top;\n",
       "    }\n",
       "\n",
       "    .dataframe thead th {\n",
       "        text-align: right;\n",
       "    }\n",
       "</style>\n",
       "<table border=\"1\" class=\"dataframe\">\n",
       "  <thead>\n",
       "    <tr style=\"text-align: right;\">\n",
       "      <th></th>\n",
       "      <th>price</th>\n",
       "      <th>predicted</th>\n",
       "      <th>model</th>\n",
       "    </tr>\n",
       "  </thead>\n",
       "  <tbody>\n",
       "    <tr>\n",
       "      <th>9884</th>\n",
       "      <td>18990</td>\n",
       "      <td>20258.442851</td>\n",
       "      <td>1</td>\n",
       "    </tr>\n",
       "    <tr>\n",
       "      <th>6579</th>\n",
       "      <td>32896</td>\n",
       "      <td>36431.950110</td>\n",
       "      <td>4</td>\n",
       "    </tr>\n",
       "    <tr>\n",
       "      <th>5984</th>\n",
       "      <td>14995</td>\n",
       "      <td>9184.592339</td>\n",
       "      <td>33</td>\n",
       "    </tr>\n",
       "    <tr>\n",
       "      <th>1797</th>\n",
       "      <td>13498</td>\n",
       "      <td>18321.097622</td>\n",
       "      <td>99</td>\n",
       "    </tr>\n",
       "    <tr>\n",
       "      <th>5816</th>\n",
       "      <td>10691</td>\n",
       "      <td>12761.456788</td>\n",
       "      <td>61</td>\n",
       "    </tr>\n",
       "  </tbody>\n",
       "</table>\n",
       "</div>"
      ],
      "text/plain": [
       "      price     predicted  model\n",
       "9884  18990  20258.442851      1\n",
       "6579  32896  36431.950110      4\n",
       "5984  14995   9184.592339     33\n",
       "1797  13498  18321.097622     99\n",
       "5816  10691  12761.456788     61"
      ]
     },
     "execution_count": 37,
     "metadata": {},
     "output_type": "execute_result"
    }
   ],
   "source": [
    "out.head()"
   ]
  },
  {
   "cell_type": "code",
   "execution_count": 38,
   "id": "0117403e-7a94-4543-9917-51ceb52190fd",
   "metadata": {},
   "outputs": [
    {
     "data": {
      "text/html": [
       "<div>\n",
       "<style scoped>\n",
       "    .dataframe tbody tr th:only-of-type {\n",
       "        vertical-align: middle;\n",
       "    }\n",
       "\n",
       "    .dataframe tbody tr th {\n",
       "        vertical-align: top;\n",
       "    }\n",
       "\n",
       "    .dataframe thead th {\n",
       "        text-align: right;\n",
       "    }\n",
       "</style>\n",
       "<table border=\"1\" class=\"dataframe\">\n",
       "  <thead>\n",
       "    <tr style=\"text-align: right;\">\n",
       "      <th></th>\n",
       "      <th>price</th>\n",
       "      <th>predicted</th>\n",
       "      <th>model</th>\n",
       "    </tr>\n",
       "  </thead>\n",
       "  <tbody>\n",
       "    <tr>\n",
       "      <th>0</th>\n",
       "      <td>18990</td>\n",
       "      <td>20258.442851</td>\n",
       "      <td>1</td>\n",
       "    </tr>\n",
       "    <tr>\n",
       "      <th>1</th>\n",
       "      <td>32896</td>\n",
       "      <td>36431.950110</td>\n",
       "      <td>4</td>\n",
       "    </tr>\n",
       "    <tr>\n",
       "      <th>2</th>\n",
       "      <td>14995</td>\n",
       "      <td>9184.592339</td>\n",
       "      <td>33</td>\n",
       "    </tr>\n",
       "    <tr>\n",
       "      <th>3</th>\n",
       "      <td>13498</td>\n",
       "      <td>18321.097622</td>\n",
       "      <td>99</td>\n",
       "    </tr>\n",
       "    <tr>\n",
       "      <th>4</th>\n",
       "      <td>10691</td>\n",
       "      <td>12761.456788</td>\n",
       "      <td>61</td>\n",
       "    </tr>\n",
       "  </tbody>\n",
       "</table>\n",
       "</div>"
      ],
      "text/plain": [
       "   price     predicted  model\n",
       "0  18990  20258.442851      1\n",
       "1  32896  36431.950110      4\n",
       "2  14995   9184.592339     33\n",
       "3  13498  18321.097622     99\n",
       "4  10691  12761.456788     61"
      ]
     },
     "execution_count": 38,
     "metadata": {},
     "output_type": "execute_result"
    }
   ],
   "source": [
    "out=out.reset_index(drop=True)\n",
    "out.head()"
   ]
  },
  {
   "cell_type": "code",
   "execution_count": 39,
   "id": "9ff74acd-9968-45ff-b127-e840bf7402cc",
   "metadata": {},
   "outputs": [
    {
     "data": {
      "text/html": [
       "<div>\n",
       "<style scoped>\n",
       "    .dataframe tbody tr th:only-of-type {\n",
       "        vertical-align: middle;\n",
       "    }\n",
       "\n",
       "    .dataframe tbody tr th {\n",
       "        vertical-align: top;\n",
       "    }\n",
       "\n",
       "    .dataframe thead th {\n",
       "        text-align: right;\n",
       "    }\n",
       "</style>\n",
       "<table border=\"1\" class=\"dataframe\">\n",
       "  <thead>\n",
       "    <tr style=\"text-align: right;\">\n",
       "      <th></th>\n",
       "      <th>price</th>\n",
       "      <th>predicted</th>\n",
       "      <th>model</th>\n",
       "    </tr>\n",
       "  </thead>\n",
       "  <tbody>\n",
       "    <tr>\n",
       "      <th>464</th>\n",
       "      <td>17882</td>\n",
       "      <td>19857.308801</td>\n",
       "      <td>0</td>\n",
       "    </tr>\n",
       "    <tr>\n",
       "      <th>19592</th>\n",
       "      <td>21898</td>\n",
       "      <td>20709.644863</td>\n",
       "      <td>0</td>\n",
       "    </tr>\n",
       "    <tr>\n",
       "      <th>4965</th>\n",
       "      <td>3995</td>\n",
       "      <td>-2923.067435</td>\n",
       "      <td>0</td>\n",
       "    </tr>\n",
       "    <tr>\n",
       "      <th>12734</th>\n",
       "      <td>14490</td>\n",
       "      <td>17781.651773</td>\n",
       "      <td>0</td>\n",
       "    </tr>\n",
       "    <tr>\n",
       "      <th>23552</th>\n",
       "      <td>9995</td>\n",
       "      <td>9745.910697</td>\n",
       "      <td>0</td>\n",
       "    </tr>\n",
       "  </tbody>\n",
       "</table>\n",
       "</div>"
      ],
      "text/plain": [
       "       price     predicted  model\n",
       "464    17882  19857.308801      0\n",
       "19592  21898  20709.644863      0\n",
       "4965    3995  -2923.067435      0\n",
       "12734  14490  17781.651773      0\n",
       "23552   9995   9745.910697      0"
      ]
     },
     "execution_count": 39,
     "metadata": {},
     "output_type": "execute_result"
    }
   ],
   "source": [
    "out=out.sort_values(by=['model'])\n",
    "out.head()"
   ]
  },
  {
   "cell_type": "code",
   "execution_count": 40,
   "id": "d1cee287-e244-48fa-8aff-68a03b222e90",
   "metadata": {},
   "outputs": [
    {
     "data": {
      "text/html": [
       "<div>\n",
       "<style scoped>\n",
       "    .dataframe tbody tr th:only-of-type {\n",
       "        vertical-align: middle;\n",
       "    }\n",
       "\n",
       "    .dataframe tbody tr th {\n",
       "        vertical-align: top;\n",
       "    }\n",
       "\n",
       "    .dataframe thead th {\n",
       "        text-align: right;\n",
       "    }\n",
       "</style>\n",
       "<table border=\"1\" class=\"dataframe\">\n",
       "  <thead>\n",
       "    <tr style=\"text-align: right;\">\n",
       "      <th></th>\n",
       "      <th>price</th>\n",
       "      <th>predicted</th>\n",
       "      <th>model</th>\n",
       "    </tr>\n",
       "  </thead>\n",
       "  <tbody>\n",
       "    <tr>\n",
       "      <th>0</th>\n",
       "      <td>17882</td>\n",
       "      <td>19857.308801</td>\n",
       "      <td>0</td>\n",
       "    </tr>\n",
       "    <tr>\n",
       "      <th>1</th>\n",
       "      <td>21898</td>\n",
       "      <td>20709.644863</td>\n",
       "      <td>0</td>\n",
       "    </tr>\n",
       "    <tr>\n",
       "      <th>2</th>\n",
       "      <td>3995</td>\n",
       "      <td>-2923.067435</td>\n",
       "      <td>0</td>\n",
       "    </tr>\n",
       "    <tr>\n",
       "      <th>3</th>\n",
       "      <td>14490</td>\n",
       "      <td>17781.651773</td>\n",
       "      <td>0</td>\n",
       "    </tr>\n",
       "    <tr>\n",
       "      <th>4</th>\n",
       "      <td>9995</td>\n",
       "      <td>9745.910697</td>\n",
       "      <td>0</td>\n",
       "    </tr>\n",
       "  </tbody>\n",
       "</table>\n",
       "</div>"
      ],
      "text/plain": [
       "   price     predicted  model\n",
       "0  17882  19857.308801      0\n",
       "1  21898  20709.644863      0\n",
       "2   3995  -2923.067435      0\n",
       "3  14490  17781.651773      0\n",
       "4   9995   9745.910697      0"
      ]
     },
     "execution_count": 40,
     "metadata": {},
     "output_type": "execute_result"
    }
   ],
   "source": [
    "out=out.reset_index(drop=True)\n",
    "out.head()"
   ]
  },
  {
   "cell_type": "code",
   "execution_count": 41,
   "id": "567ebed7-df89-424f-b9fc-e4d645607620",
   "metadata": {},
   "outputs": [
    {
     "data": {
      "text/plain": [
       "<Figure size 720x864 with 0 Axes>"
      ]
     },
     "execution_count": 41,
     "metadata": {},
     "output_type": "execute_result"
    },
    {
     "data": {
      "image/png": "[encoded data removed]",
      "text/plain": [
       "<Figure size 432x288 with 1 Axes>"
      ]
     },
     "metadata": {
      "needs_background": "light"
     },
     "output_type": "display_data"
    },
    {
     "data": {
      "text/plain": [
       "<Figure size 720x864 with 0 Axes>"
      ]
     },
     "metadata": {},
     "output_type": "display_data"
    }
   ],
   "source": [
    "from matplotlib import pyplot as plt\n",
    "plt.plot(out['predicted'],out['model'])\n",
    "plt.plot(out['price'],out['model'])\n",
    "plt.figure(figsize=(10,12))"
   ]
  },
  {
   "cell_type": "code",
   "execution_count": 42,
   "id": "66a62c81-87cd-4b2c-a553-77a5366ad7e6",
   "metadata": {},
   "outputs": [
    {
     "data": {
      "text/plain": [
       "0.7215299631480434"
      ]
     },
     "execution_count": 42,
     "metadata": {},
     "output_type": "execute_result"
    }
   ],
   "source": [
    "score = linear.score(X_test, y_test)\n",
    "score\n"
   ]
  },
  {
   "cell_type": "code",
   "execution_count": 43,
   "id": "1e5a94f9-3988-4bb0-97be-f6594ad35dc7",
   "metadata": {},
   "outputs": [
    {
     "name": "stderr",
     "output_type": "stream",
     "text": [
      "C:\\Users\\saina\\AppData\\Local\\Temp/ipykernel_2592/4147213599.py:2: DataConversionWarning: A column-vector y was passed when a 1d array was expected. Please change the shape of y to (n_samples,), for example using ravel().\n",
      "  rf.fit(X_train,y_train)\n"
     ]
    },
    {
     "data": {
      "text/plain": [
       "RandomForestRegressor()"
      ]
     },
     "execution_count": 43,
     "metadata": {},
     "output_type": "execute_result"
    }
   ],
   "source": [
    "rf=RandomForestRegressor()\n",
    "rf.fit(X_train,y_train)"
   ]
  },
  {
   "cell_type": "code",
   "execution_count": 44,
   "id": "41ef80b8-4c54-4701-b742-d384c12ac0be",
   "metadata": {},
   "outputs": [],
   "source": [
    "pred1=rf.predict(X_test)"
   ]
  },
  {
   "cell_type": "code",
   "execution_count": 48,
   "id": "db503837-1181-464f-87d8-fb1324d19507",
   "metadata": {},
   "outputs": [
    {
     "data": {
      "text/plain": [
       "0.9593366655538924"
      ]
     },
     "execution_count": 48,
     "metadata": {},
     "output_type": "execute_result"
    }
   ],
   "source": [
    "rf.score(X_test,y_test)"
   ]
  },
  {
   "cell_type": "code",
   "execution_count": 49,
   "id": "74a2872e-da9f-4399-88a5-7bde772b08f3",
   "metadata": {},
   "outputs": [
    {
     "data": {
      "text/plain": [
       "<Figure size 720x864 with 0 Axes>"
      ]
     },
     "execution_count": 49,
     "metadata": {},
     "output_type": "execute_result"
    },
    {
     "data": {
      "image/png": "[encoded data removed]",
      "text/plain": [
       "<Figure size 432x288 with 1 Axes>"
      ]
     },
     "metadata": {
      "needs_background": "light"
     },
     "output_type": "display_data"
    },
    {
     "data": {
      "text/plain": [
       "<Figure size 720x864 with 0 Axes>"
      ]
     },
     "metadata": {},
     "output_type": "display_data"
    }
   ],
   "source": [
    "from matplotlib import pyplot as plt\n",
    "plt.plot(pred1,out['model'])\n",
    "plt.plot(out['price'],out['model'])\n",
    "plt.figure(figsize=(10,12))"
   ]
  },
  {
   "cell_type": "code",
   "execution_count": 50,
   "id": "a6732904-a79f-405a-9368-1b736b4f8d11",
   "metadata": {},
   "outputs": [],
   "source": [
    "import pickle\n",
    "\n",
    "filename = 'used_car_prediction.sav'\n",
    "pickle.dump(rf, open(filename, 'wb'))\n",
    "\n",
    "pickle.dump(model, open('model.sav', 'wb'))\n",
    "pickle.dump(transmission, open('transmission.sav', 'wb'))\n",
    "pickle.dump(fuelType, open('fueltype.sav', 'wb'))\n",
    "pickle.dump(company_name, open('company_name.sav', 'wb'))"
   ]
  },
  {
   "cell_type": "code",
   "execution_count": null,
   "id": "d9e0b816-f5e0-4a6f-85e0-1ce63c26d1f5",
   "metadata": {},
   "outputs": [],
   "source": []
  }
 ],
 "metadata": {
  "kernelspec": {
   "display_name": "Python 3 (ipykernel)",
   "language": "python",
   "name": "python3"
  },
  "language_info": {
   "codemirror_mode": {
    "name": "ipython",
    "version": 3
   },
   "file_extension": ".py",
   "mimetype": "text/x-python",
   "name": "python",
   "nbconvert_exporter": "python",
   "pygments_lexer": "ipython3",
   "version": "3.9.6"
  }
 },
 "nbformat": 4,
 "nbformat_minor": 5
}
